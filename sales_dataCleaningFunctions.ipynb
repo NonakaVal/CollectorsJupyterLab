{
 "cells": [
  {
   "cell_type": "markdown",
   "id": "f96610c5-f8ff-4e98-9409-2f5e2ebf9687",
   "metadata": {},
   "source": [
    "### SETUP"
   ]
  },
  {
   "cell_type": "code",
   "execution_count": 4,
   "id": "c5114094-aafb-4e9b-a60c-75df0ffcbc23",
   "metadata": {},
   "outputs": [],
   "source": [
    "from datetime import datetime\n",
    "import pandas as pd \n",
    "import warnings\n",
    "import os\n",
    "\n",
    "warnings.filterwarnings(\"ignore\", category=UserWarning, module=\"openpyxl\")\n"
   ]
  },
  {
   "cell_type": "code",
   "execution_count": 6,
   "id": "14e65f05-2443-4fe0-a873-93985f061982",
   "metadata": {
    "jupyter": {
     "source_hidden": true
    }
   },
   "outputs": [],
   "source": [
    "ml_path =  \"data-ml-ms/20241230_Vendas_BR_Mercado_Livre_2024-12-30_21-05hs_1394589919.xlsx\"\n",
    "ms_path =  \"data-ml-ms/20241230_Vendas_BR_Mercado_Shops_2024-12-30_21-19hs_1394589919.xlsx\"\n",
    "\n",
    "sales_10 = \"data-vendas-internads/VENDAS MES 10 - TODAS VENDAS.csv\"\n",
    "sales_11 = \"data-vendas-internads/VENDAS MES 11 - TODAS.csv\"\n",
    "sales_12 = \"data-vendas-internads/VENDAS MES 12 - Todas as vendas.csv\""
   ]
  },
  {
   "cell_type": "code",
   "execution_count": 8,
   "id": "9c0f5da5-5cf1-4e9b-b0bf-d2d98e900ddb",
   "metadata": {
    "jupyter": {
     "source_hidden": true
    }
   },
   "outputs": [],
   "source": [
    "# FUNÇÕES SISTEMA INTERNO\n",
    "def formatar_valor(valor):\n",
    "    if isinstance(valor, str):\n",
    "        # Remove o \"R$\" e substitui \".\" por \"\" (milhar), depois \",\" por \".\"\n",
    "        valor = valor.replace('R$', '').replace('.', '').replace(',', '.')\n",
    "    return float(valor)\n",
    "\n",
    "def import_and_format(path):\n",
    "    df = pd.read_csv(path)\n",
    "    df['OBS'] = df['OBS'].fillna(\"-\")\n",
    "    df['Comprador'] = df['Comprador'].fillna(\"-\")\n",
    "    df['Forma de pagamento'] = df['Forma de pagamento'].fillna(\"Não Informado\")\n",
    "    df = df.drop(columns=['Tarifas de envio'], errors='ignore')\n",
    "    df = df.fillna(0)\n",
    "    df['Comprador'] = df['Comprador'].str.lower()\n",
    "    \n",
    "    \n",
    "    df['Receita por produtos (BRL)'] = df['Receita por produtos (BRL)'].apply(formatar_valor).astype(int)\n",
    "    return df\n",
    "\n",
    "\n",
    "\n",
    "def agrupar_por_coluna(dataframe, coluna_agrupamento=\"CHANNEL\"):\n",
    "    \"\"\"\n",
    "    Agrupa o DataFrame por uma coluna específica, calcula a soma de 'Receita por produtos (BRL)',\n",
    "    e formata os valores no estilo monetário brasileiro.\n",
    "\n",
    "    Parâmetros:\n",
    "        dataframe (pd.DataFrame): O DataFrame de entrada.\n",
    "        coluna_agrupamento (str): O nome da coluna para agrupar. O padrão é \"CHANNEL\".\n",
    "    \n",
    "    Retorna:\n",
    "        pd.DataFrame: DataFrame agrupado e formatado.\n",
    "    \"\"\"\n",
    "    # Agrupando pela coluna especificada\n",
    "    bychannel = dataframe.groupby(coluna_agrupamento)[[\"Receita por produtos (BRL)\"]].sum().sort_values(by=\"Receita por produtos (BRL)\")\n",
    "    \n",
    "    # Formatando os valores como moeda\n",
    "    # bychannel['Receita por produtos (BRL)'] = bychannel['Receita por produtos (BRL)'].apply(\n",
    "    #     lambda x: f\"R$ {x:,.2f}\".replace(',', 'X').replace('.', ',').replace('X', '.')\n",
    "    # )\n",
    "    \n",
    "    # Resetando o índice para uma melhor visualização\n",
    "    bychannel = bychannel.reset_index()\n",
    "\n",
    "    return bychannel\n"
   ]
  },
  {
   "cell_type": "code",
   "execution_count": 10,
   "id": "5c9bb494-0017-4b23-87db-d12edc7eae78",
   "metadata": {
    "jupyter": {
     "source_hidden": true
    }
   },
   "outputs": [],
   "source": [
    "# Mapeamento de extensões de arquivo para funções de carregamento do pandas\n",
    "file_formats = {\n",
    "    \"csv\": pd.read_csv,\n",
    "    \"xls\": pd.read_excel,\n",
    "    \"xlsx\": pd.read_excel,\n",
    "    \"xlsm\": pd.read_excel,\n",
    "    \"xlsb\": pd.read_excel,\n",
    "}\n",
    "\n",
    "# Mapeamento de meses em português para seus números correspondentes\n",
    "meses = {\n",
    "    'janeiro': '01', 'fevereiro': '02', 'março': '03', 'abril': '04',\n",
    "    'maio': '05', 'junho': '06', 'julho': '07', 'agosto': '08',\n",
    "    'setembro': '09', 'outubro': '10', 'novembro': '11', 'dezembro': '12'\n",
    "}\n"
   ]
  },
  {
   "cell_type": "code",
   "execution_count": 12,
   "id": "9ea38412-f234-462a-8df0-2cb197dfe6ea",
   "metadata": {
    "jupyter": {
     "source_hidden": true
    }
   },
   "outputs": [],
   "source": [
    "# Função para carregar dados do arquivo\n",
    "def load_data(uploaded_file, sheet_name, header=0):\n",
    "    \"\"\"\n",
    "    Carrega o arquivo e retorna um DataFrame do Pandas, com opções específicas para planilhas do Excel.\n",
    "    \"\"\"\n",
    "    try:\n",
    "        ext = os.path.splitext(uploaded_file.name)[1][1:].lower()  # Extrai a extensão do arquivo\n",
    "    except AttributeError:\n",
    "        ext = uploaded_file.split(\".\")[-1].lower()  # Em caso de erro, extrai pela string do nome\n",
    "\n",
    "    # Verifica se o formato é suportado\n",
    "    if ext in file_formats:\n",
    "        if ext in ['xls', 'xlsx', 'xlsm', 'xlsb']:\n",
    "            # Para planilhas Excel, carrega a aba específica e ignora as linhas definidas no header\n",
    "            return pd.read_excel(uploaded_file, sheet_name=sheet_name, header=header)\n",
    "        else:\n",
    "            return file_formats[ext](uploaded_file)  # Para outros formatos, usa o mapeamento padrão\n",
    "    else:\n",
    "        raise ValueError(f\"Formato de arquivo não suportado: {ext}\")\n",
    "\n",
    "# Função para converter datas\n",
    "def converter_data(data_hora_str):\n",
    "    \"\"\"\n",
    "    Converte uma string de data no formato \"d de mês de Y H:M hs.\" para \"d/m/Y\".\n",
    "    \"\"\"\n",
    "    for mes, numero in meses.items():\n",
    "        data_hora_str = data_hora_str.replace(mes, numero)\n",
    "    try:\n",
    "        data_hora = datetime.strptime(data_hora_str, \"%d de %m de %Y %H:%M hs.\")\n",
    "        return data_hora.strftime(\"%d/%m/%Y\")\n",
    "    except ValueError:\n",
    "        return None  # Caso a data seja inválida ou nula\n",
    "\n",
    "# Função para limpar e processar dados de vendas\n",
    "def sales_data_cleaning(data, x):\n",
    "    \"\"\"\n",
    "    Limpa e processa os dados de vendas.\n",
    "    \"\"\"\n",
    "    # Processar o DataFrame 'vendas'\n",
    "    vendas = data.iloc[:, :11]  # Seleciona as primeiras 11 colunas\n",
    "    vendas['Unidades'] = vendas['Unidades'].fillna(2).astype(int)\n",
    "    vendas = vendas.drop(\n",
    "        columns=['Receita por envio (BRL)', 'Status', 'Descrição do status', 'Pacote de diversos produtos'],\n",
    "        errors='ignore'\n",
    "    )\n",
    "    vendas['Receita por produtos (BRL)'] = vendas['Receita por produtos (BRL)'].fillna(\n",
    "        data['Preço unitário de venda do anúncio (BRL)']\n",
    "    )\n",
    "    vendas['Cancelamentos e reembolsos (BRL)'] = vendas['Cancelamentos e reembolsos (BRL)'].fillna(0)\n",
    "    vendas['Tarifa de venda e impostos'] = vendas['Tarifa de venda e impostos'].fillna(0)\n",
    "    vendas['Tarifas de envio'] = vendas['Tarifas de envio'].fillna(0)\n",
    "\n",
    "    # Processar o DataFrame 'compradores'\n",
    "    compradores = data.iloc[:, [0]].join(data.iloc[:, 26:33])  # Seleciona a primeira coluna e as colunas 26 a 32\n",
    "\n",
    "    # Converter a data na coluna 'Data da venda'\n",
    "    vendas['Data da venda'] = data['Data da venda'].apply(converter_data).fillna(0)\n",
    "\n",
    "    # Mesclar DataFrames 'vendas' e 'compradores'\n",
    "    df_merged = pd.merge(vendas, compradores, on='N.º de venda', how='inner')\n",
    "\n",
    "    # Adicionar canal (CHANNEL)\n",
    "    df_merged['CHANNEL'] = x\n",
    "\n",
    "    # Adicionar colunas ITEM_ID e TITLE, se existirem no DataFrame original\n",
    "    if data.shape[1] > 15:  # Verifica se a coluna 15 existe\n",
    "        df_merged.insert(15, 'ITEM_ID', data.iloc[:, 15])  # Adiciona a coluna do DataFrame original na posição 15\n",
    "    if data.shape[1] > 16:  # Verifica se a coluna 16 existe\n",
    "        df_merged.insert(16, 'TITLE', data.iloc[:, 16])  # Adiciona a coluna do DataFrame original na posição 16\n",
    "\n",
    "    return df_merged\n",
    "\n",
    "# Função principal para formatar os dados de vendas\n",
    "def format_sales(data, channel):\n",
    "    \"\"\"\n",
    "    Formata os dados de vendas a partir do arquivo carregado.\n",
    "    \"\"\"\n",
    "    data = load_data(data, \"Vendas BR\", header=5)  # Passa o arquivo carregado como argumento\n",
    "    data = sales_data_cleaning(data, channel)\n",
    "    data = data.rename(columns={\"Endereço.1\": \"Endereço\", \"Status.1\": \"UF\"})\n",
    "    return data"
   ]
  },
  {
   "cell_type": "markdown",
   "id": "892fc723-667d-438a-9484-c91ae3b57f17",
   "metadata": {
    "jp-MarkdownHeadingCollapsed": true
   },
   "source": [
    "### VENDAS INTERNAS"
   ]
  },
  {
   "cell_type": "code",
   "execution_count": 15,
   "id": "5c8e2073-e232-4132-8e8a-7e925ecd31af",
   "metadata": {},
   "outputs": [
    {
     "name": "stdout",
     "output_type": "stream",
     "text": [
      "(22, 10)\n",
      "(35, 10)\n",
      "(89, 14)\n"
     ]
    }
   ],
   "source": [
    "df_10 = import_and_format(sales_10)\n",
    "df_11 = import_and_format(sales_11)\n",
    "df_12 = import_and_format(sales_12)\n",
    "\n",
    "\n",
    "df_list = [df_10, df_11, df_12]\n",
    "\n",
    "for i in df_list:\n",
    "    \n",
    "    print(i.shape)\n",
    "    \n",
    "    \n",
    "df_combined = pd.concat([df_10, df_11, df_12], ignore_index=True)\n",
    "\n",
    "# Exibindo o DataFrame resultante\n",
    "\n"
   ]
  },
  {
   "cell_type": "code",
   "execution_count": 17,
   "id": "5862a29c-8aa6-42d6-9490-93729678b221",
   "metadata": {
    "scrolled": true
   },
   "outputs": [
    {
     "name": "stderr",
     "output_type": "stream",
     "text": [
      "C:\\Users\\nonak\\AppData\\Local\\Temp\\ipykernel_19116\\1044554880.py:3: FutureWarning: Downcasting object dtype arrays on .fillna, .ffill, .bfill is deprecated and will change in a future version. Call result.infer_objects(copy=False) instead. To opt-in to the future behavior, set `pd.set_option('future.no_silent_downcasting', True)`\n",
      "  df_combined['THIAGO'] = df_combined['THIAGO'].fillna(False)\n"
     ]
    }
   ],
   "source": [
    "df_combined = df_combined.drop(columns=['Orçamento de Envio - 2', 'Rastreio'], errors='ignore')\n",
    "df_combined['Orçamento de Envio'] = df_combined['Orçamento de Envio'].fillna(0)\n",
    "df_combined['THIAGO'] = df_combined['THIAGO'].fillna(False)\n",
    "df_combined['Orçamento de Envio'] = df_combined['Orçamento de Envio'].apply(formatar_valor).astype(int)"
   ]
  },
  {
   "cell_type": "code",
   "execution_count": 78,
   "id": "c756ad6c-27a4-47ff-9b7e-3de8aeceb1bc",
   "metadata": {},
   "outputs": [
    {
     "data": {
      "text/html": [
       "<div>\n",
       "<style scoped>\n",
       "    .dataframe tbody tr th:only-of-type {\n",
       "        vertical-align: middle;\n",
       "    }\n",
       "\n",
       "    .dataframe tbody tr th {\n",
       "        vertical-align: top;\n",
       "    }\n",
       "\n",
       "    .dataframe thead th {\n",
       "        text-align: right;\n",
       "    }\n",
       "</style>\n",
       "<table border=\"1\" class=\"dataframe\">\n",
       "  <thead>\n",
       "    <tr style=\"text-align: right;\">\n",
       "      <th></th>\n",
       "      <th>DATA</th>\n",
       "      <th>TITLE</th>\n",
       "      <th>Comprador</th>\n",
       "      <th>Receita por produtos (BRL)</th>\n",
       "      <th>Tipo Envio</th>\n",
       "      <th>CHANNEL</th>\n",
       "      <th>STATUS PAGAMENTO</th>\n",
       "      <th>STATUS ENVIO</th>\n",
       "      <th>Forma de pagamento</th>\n",
       "      <th>OBS</th>\n",
       "      <th>Orçamento de Envio</th>\n",
       "      <th>THIAGO</th>\n",
       "    </tr>\n",
       "  </thead>\n",
       "  <tbody>\n",
       "    <tr>\n",
       "      <th>0</th>\n",
       "      <td>2024/10/16</td>\n",
       "      <td>Controle Nintendo NES JP 8 bits vermelho</td>\n",
       "      <td>edvaldo bueno junior</td>\n",
       "      <td>600</td>\n",
       "      <td>Frete Gratis Sedex com seguro</td>\n",
       "      <td>Prime</td>\n",
       "      <td>OK (PAGO)</td>\n",
       "      <td>ENVIADO</td>\n",
       "      <td>PIX</td>\n",
       "      <td>EXIGENTE</td>\n",
       "      <td>0</td>\n",
       "      <td>False</td>\n",
       "    </tr>\n",
       "    <tr>\n",
       "      <th>1</th>\n",
       "      <td>2024/10/16</td>\n",
       "      <td>PS4 Gran Turismo</td>\n",
       "      <td>henrique da silva leite</td>\n",
       "      <td>2350</td>\n",
       "      <td>Mercado Livre</td>\n",
       "      <td>Prime</td>\n",
       "      <td>OK (PAGO)</td>\n",
       "      <td>ENVIADO</td>\n",
       "      <td>Mercado Livre</td>\n",
       "      <td>poster dragon ball</td>\n",
       "      <td>0</td>\n",
       "      <td>False</td>\n",
       "    </tr>\n",
       "    <tr>\n",
       "      <th>2</th>\n",
       "      <td>2024/10/16</td>\n",
       "      <td>Controle ps3 prata</td>\n",
       "      <td>kaian cardoso cordeiro</td>\n",
       "      <td>190</td>\n",
       "      <td>Pac com seguro</td>\n",
       "      <td>Direta</td>\n",
       "      <td>OK (PAGO)</td>\n",
       "      <td>ENVIADO</td>\n",
       "      <td>PIX</td>\n",
       "      <td>valor final 230,90</td>\n",
       "      <td>0</td>\n",
       "      <td>False</td>\n",
       "    </tr>\n",
       "    <tr>\n",
       "      <th>3</th>\n",
       "      <td>2024/10/16</td>\n",
       "      <td>PS2 Fat azul</td>\n",
       "      <td>kaique marques</td>\n",
       "      <td>1650</td>\n",
       "      <td>Sedex com seguro</td>\n",
       "      <td>Prime</td>\n",
       "      <td>OK (PAGO)</td>\n",
       "      <td>ENVIADO</td>\n",
       "      <td>PIX</td>\n",
       "      <td>enviar junto com outro pedido, brinde, mais cd...</td>\n",
       "      <td>0</td>\n",
       "      <td>False</td>\n",
       "    </tr>\n",
       "    <tr>\n",
       "      <th>4</th>\n",
       "      <td>2024/10/16</td>\n",
       "      <td>Cyberpunk Jack+PSL Stray Playstation 5 PS5</td>\n",
       "      <td>luka araujo</td>\n",
       "      <td>640</td>\n",
       "      <td>Mercado Livre</td>\n",
       "      <td>Essencial</td>\n",
       "      <td>OK (PAGO)</td>\n",
       "      <td>ENVIADO</td>\n",
       "      <td>Mercado Livre</td>\n",
       "      <td>enviar junto os dois, brinde Sasuki Naruto</td>\n",
       "      <td>0</td>\n",
       "      <td>False</td>\n",
       "    </tr>\n",
       "    <tr>\n",
       "      <th>...</th>\n",
       "      <td>...</td>\n",
       "      <td>...</td>\n",
       "      <td>...</td>\n",
       "      <td>...</td>\n",
       "      <td>...</td>\n",
       "      <td>...</td>\n",
       "      <td>...</td>\n",
       "      <td>...</td>\n",
       "      <td>...</td>\n",
       "      <td>...</td>\n",
       "      <td>...</td>\n",
       "      <td>...</td>\n",
       "    </tr>\n",
       "    <tr>\n",
       "      <th>141</th>\n",
       "      <td>21/12/2024</td>\n",
       "      <td>Pocket Watch Limited Edition Super Mario Bros ...</td>\n",
       "      <td>leandro josé rabay lucas</td>\n",
       "      <td>200</td>\n",
       "      <td>Sedex</td>\n",
       "      <td>Leilão</td>\n",
       "      <td>OK (PAGO)</td>\n",
       "      <td>ENVIADO</td>\n",
       "      <td>PIX</td>\n",
       "      <td>-</td>\n",
       "      <td>30</td>\n",
       "      <td>False</td>\n",
       "    </tr>\n",
       "    <tr>\n",
       "      <th>142</th>\n",
       "      <td>21/12/2024</td>\n",
       "      <td>Bloodborne Collector’s Edition - Ps4</td>\n",
       "      <td>luan do nascimento dias</td>\n",
       "      <td>700</td>\n",
       "      <td>Sedex</td>\n",
       "      <td>Leilão</td>\n",
       "      <td>OK (PAGO)</td>\n",
       "      <td>NÃO ENVIADO</td>\n",
       "      <td>PIX</td>\n",
       "      <td>Enviar em Janeiro</td>\n",
       "      <td>45</td>\n",
       "      <td>True</td>\n",
       "    </tr>\n",
       "    <tr>\n",
       "      <th>143</th>\n",
       "      <td>22/12/2024</td>\n",
       "      <td>Playstation 4 - Uncharted - Limited Edition - PS4</td>\n",
       "      <td>leandro gonzalez guarize</td>\n",
       "      <td>2700</td>\n",
       "      <td>Sedex</td>\n",
       "      <td>Leilão</td>\n",
       "      <td>OK (PAGO)</td>\n",
       "      <td>NÃO ENVIADO</td>\n",
       "      <td>PIX</td>\n",
       "      <td>Enviar em Janeiro</td>\n",
       "      <td>103</td>\n",
       "      <td>True</td>\n",
       "    </tr>\n",
       "    <tr>\n",
       "      <th>144</th>\n",
       "      <td>02/12/2024</td>\n",
       "      <td>PlayStation 4 - Edição Limitada Days of Play</td>\n",
       "      <td>kaique marques</td>\n",
       "      <td>2900</td>\n",
       "      <td>Sedex com seguro</td>\n",
       "      <td>Leilão</td>\n",
       "      <td>OK (PAGO)</td>\n",
       "      <td>ENVIADO</td>\n",
       "      <td>Não Informado</td>\n",
       "      <td>-</td>\n",
       "      <td>585</td>\n",
       "      <td>True</td>\n",
       "    </tr>\n",
       "    <tr>\n",
       "      <th>145</th>\n",
       "      <td>04/12/2024</td>\n",
       "      <td>God Of War Limited Edition - PS4</td>\n",
       "      <td>kaique marques</td>\n",
       "      <td>1350</td>\n",
       "      <td>Sedex com seguro</td>\n",
       "      <td>Leilão</td>\n",
       "      <td>OK (PAGO)</td>\n",
       "      <td>ENVIADO</td>\n",
       "      <td>PIX</td>\n",
       "      <td>-</td>\n",
       "      <td>585</td>\n",
       "      <td>True</td>\n",
       "    </tr>\n",
       "  </tbody>\n",
       "</table>\n",
       "<p>146 rows × 12 columns</p>\n",
       "</div>"
      ],
      "text/plain": [
       "           DATA                                              TITLE  \\\n",
       "0    2024/10/16          Controle Nintendo NES JP 8 bits vermelho    \n",
       "1    2024/10/16                                   PS4 Gran Turismo   \n",
       "2    2024/10/16                                 Controle ps3 prata   \n",
       "3    2024/10/16                                      PS2 Fat azul    \n",
       "4    2024/10/16         Cyberpunk Jack+PSL Stray Playstation 5 PS5   \n",
       "..          ...                                                ...   \n",
       "141  21/12/2024  Pocket Watch Limited Edition Super Mario Bros ...   \n",
       "142  21/12/2024               Bloodborne Collector’s Edition - Ps4   \n",
       "143  22/12/2024  Playstation 4 - Uncharted - Limited Edition - PS4   \n",
       "144  02/12/2024       PlayStation 4 - Edição Limitada Days of Play   \n",
       "145  04/12/2024                   God Of War Limited Edition - PS4   \n",
       "\n",
       "                    Comprador  Receita por produtos (BRL)  \\\n",
       "0        edvaldo bueno junior                         600   \n",
       "1    henrique da silva leite                         2350   \n",
       "2      kaian cardoso cordeiro                         190   \n",
       "3            kaique marques                          1650   \n",
       "4                 luka araujo                         640   \n",
       "..                        ...                         ...   \n",
       "141  leandro josé rabay lucas                         200   \n",
       "142   luan do nascimento dias                         700   \n",
       "143  leandro gonzalez guarize                        2700   \n",
       "144          kaique marques                          2900   \n",
       "145          kaique marques                          1350   \n",
       "\n",
       "                        Tipo Envio    CHANNEL STATUS PAGAMENTO STATUS ENVIO  \\\n",
       "0    Frete Gratis Sedex com seguro      Prime        OK (PAGO)      ENVIADO   \n",
       "1                    Mercado Livre      Prime        OK (PAGO)      ENVIADO   \n",
       "2                  Pac com seguro      Direta        OK (PAGO)      ENVIADO   \n",
       "3                 Sedex com seguro      Prime        OK (PAGO)      ENVIADO   \n",
       "4                    Mercado Livre  Essencial        OK (PAGO)      ENVIADO   \n",
       "..                             ...        ...              ...          ...   \n",
       "141                          Sedex     Leilão        OK (PAGO)      ENVIADO   \n",
       "142                          Sedex     Leilão        OK (PAGO)  NÃO ENVIADO   \n",
       "143                          Sedex     Leilão        OK (PAGO)  NÃO ENVIADO   \n",
       "144               Sedex com seguro     Leilão        OK (PAGO)      ENVIADO   \n",
       "145               Sedex com seguro     Leilão        OK (PAGO)      ENVIADO   \n",
       "\n",
       "    Forma de pagamento                                                OBS  \\\n",
       "0                  PIX                                          EXIGENTE    \n",
       "1        Mercado Livre                                 poster dragon ball   \n",
       "2                  PIX                                 valor final 230,90   \n",
       "3                 PIX   enviar junto com outro pedido, brinde, mais cd...   \n",
       "4        Mercado Livre        enviar junto os dois, brinde Sasuki Naruto    \n",
       "..                 ...                                                ...   \n",
       "141                PIX                                                  -   \n",
       "142                PIX                                  Enviar em Janeiro   \n",
       "143                PIX                                  Enviar em Janeiro   \n",
       "144      Não Informado                                                  -   \n",
       "145                PIX                                                  -   \n",
       "\n",
       "     Orçamento de Envio  THIAGO  \n",
       "0                     0   False  \n",
       "1                     0   False  \n",
       "2                     0   False  \n",
       "3                     0   False  \n",
       "4                     0   False  \n",
       "..                  ...     ...  \n",
       "141                  30   False  \n",
       "142                  45    True  \n",
       "143                 103    True  \n",
       "144                 585    True  \n",
       "145                 585    True  \n",
       "\n",
       "[146 rows x 12 columns]"
      ]
     },
     "execution_count": 78,
     "metadata": {},
     "output_type": "execute_result"
    }
   ],
   "source": [
    "\n",
    "df_combined"
   ]
  },
  {
   "cell_type": "markdown",
   "id": "d9f2f3ac-8f83-4942-97a9-85f6163b76ce",
   "metadata": {
    "jp-MarkdownHeadingCollapsed": true
   },
   "source": [
    "### VENDAS PLATAFORMA"
   ]
  },
  {
   "cell_type": "code",
   "execution_count": 81,
   "id": "f14b141c-fc5b-4640-996e-1d5166bca8af",
   "metadata": {
    "jupyter": {
     "source_hidden": true
    }
   },
   "outputs": [
    {
     "name": "stdout",
     "output_type": "stream",
     "text": [
      "(126, 17)\n",
      "(124, 17)\n"
     ]
    }
   ],
   "source": [
    "df_ml = format_sales(ml_path,'MERCADOLIVRE')\n",
    "df_ms = format_sales(ms_path,'MERCADOSHOPS')\n",
    "print(df_ml.shape)\n",
    "print(df_ms.shape)"
   ]
  },
  {
   "cell_type": "code",
   "execution_count": 83,
   "id": "8c6250eb-afc3-4c51-9ef8-c3c4cdd61e1e",
   "metadata": {},
   "outputs": [
    {
     "name": "stdout",
     "output_type": "stream",
     "text": [
      "<class 'pandas.core.frame.DataFrame'>\n",
      "RangeIndex: 124 entries, 0 to 123\n",
      "Data columns (total 17 columns):\n",
      " #   Column                            Non-Null Count  Dtype  \n",
      "---  ------                            --------------  -----  \n",
      " 0   N.º de venda                      124 non-null    int64  \n",
      " 1   Data da venda                     124 non-null    object \n",
      " 2   Unidades                          124 non-null    int32  \n",
      " 3   Receita por produtos (BRL)        124 non-null    float64\n",
      " 4   Tarifa de venda e impostos        124 non-null    float64\n",
      " 5   Tarifas de envio                  124 non-null    float64\n",
      " 6   Cancelamentos e reembolsos (BRL)  124 non-null    float64\n",
      " 7   Comprador                         124 non-null    object \n",
      " 8   CPF                               124 non-null    object \n",
      " 9   Endereço                          124 non-null    object \n",
      " 10  Cidade                            124 non-null    object \n",
      " 11  UF                                124 non-null    object \n",
      " 12  CEP                               124 non-null    object \n",
      " 13  País                              124 non-null    object \n",
      " 14  CHANNEL                           124 non-null    object \n",
      " 15  ITEM_ID                           124 non-null    object \n",
      " 16  TITLE                             124 non-null    object \n",
      "dtypes: float64(4), int32(1), int64(1), object(11)\n",
      "memory usage: 16.1+ KB\n"
     ]
    }
   ],
   "source": [
    "df_ms.info()"
   ]
  },
  {
   "cell_type": "code",
   "execution_count": 85,
   "id": "4990dd1c-9ffb-4a10-a74e-d300ba7bcbe0",
   "metadata": {
    "jupyter": {
     "source_hidden": true
    }
   },
   "outputs": [],
   "source": [
    "df_combined = pd.concat([df_ml, df_ms], ignore_index=True)\n",
    "# Aplicando a formatação\n",
    "to_format = ['Receita por produtos (BRL)', 'Tarifa de venda e impostos',\n",
    "       'Tarifas de envio', 'Cancelamentos e reembolsos (BRL)']\n",
    "for col in to_format:\n",
    "    df_combined[col] = df_combined[col].apply(formatar_valor).astype(float).abs()\n",
    "\n",
    "\n",
    "# df_combined['Forma de pagamento'] = df_combined['Forma de pagamento'].apply(lambda x: ' '.join(x.split()))\n",
    "# df_combined_"
   ]
  },
  {
   "cell_type": "markdown",
   "id": "b465d28a-6f11-439d-a70f-6b14e5d07628",
   "metadata": {},
   "source": [
    "### EXPORT"
   ]
  },
  {
   "cell_type": "code",
   "execution_count": 88,
   "id": "c1d46154-52fb-4372-b522-8b26ab6ff358",
   "metadata": {},
   "outputs": [
    {
     "data": {
      "text/plain": [
       "Index(['N.º de venda', 'Data da venda', 'Unidades',\n",
       "       'Receita por produtos (BRL)', 'Tarifa de venda e impostos',\n",
       "       'Tarifas de envio', 'Cancelamentos e reembolsos (BRL)', 'Comprador',\n",
       "       'CPF', 'Endereço', 'Cidade', 'UF', 'CEP', 'País', 'CHANNEL', 'ITEM_ID',\n",
       "       'TITLE'],\n",
       "      dtype='object')"
      ]
     },
     "execution_count": 88,
     "metadata": {},
     "output_type": "execute_result"
    }
   ],
   "source": [
    "df_combined.columns"
   ]
  },
  {
   "cell_type": "code",
   "execution_count": 101,
   "id": "506548f5-6fd9-4ec4-9b0a-80c9903c42c9",
   "metadata": {},
   "outputs": [
    {
     "data": {
      "text/html": [
       "<div>\n",
       "<style scoped>\n",
       "    .dataframe tbody tr th:only-of-type {\n",
       "        vertical-align: middle;\n",
       "    }\n",
       "\n",
       "    .dataframe tbody tr th {\n",
       "        vertical-align: top;\n",
       "    }\n",
       "\n",
       "    .dataframe thead th {\n",
       "        text-align: right;\n",
       "    }\n",
       "</style>\n",
       "<table border=\"1\" class=\"dataframe\">\n",
       "  <thead>\n",
       "    <tr style=\"text-align: right;\">\n",
       "      <th></th>\n",
       "      <th>CHANNEL</th>\n",
       "      <th>Receita por produtos (BRL)</th>\n",
       "    </tr>\n",
       "  </thead>\n",
       "  <tbody>\n",
       "    <tr>\n",
       "      <th>0</th>\n",
       "      <td>MERCADOLIVRE</td>\n",
       "      <td>R$ 110.158,31</td>\n",
       "    </tr>\n",
       "    <tr>\n",
       "      <th>1</th>\n",
       "      <td>MERCADOSHOPS</td>\n",
       "      <td>R$ 155.267,20</td>\n",
       "    </tr>\n",
       "  </tbody>\n",
       "</table>\n",
       "</div>"
      ],
      "text/plain": [
       "        CHANNEL Receita por produtos (BRL)\n",
       "0  MERCADOLIVRE              R$ 110.158,31\n",
       "1  MERCADOSHOPS              R$ 155.267,20"
      ]
     },
     "execution_count": 101,
     "metadata": {},
     "output_type": "execute_result"
    }
   ],
   "source": [
    "result_channel = agrupar_por_coluna(df_combined, coluna_agrupamento=\"CHANNEL\")\n",
    "sumo = result_channel['Receita por produtos (BRL)'].sum()\n",
    "\n",
    "result_channel['Receita por produtos (BRL)'] = result_channel['Receita por produtos (BRL)'].apply(\n",
    "    lambda x: f\"R$ {x:,.2f}\".replace(',', 'X').replace('.', ',').replace('X', '.')\n",
    ")\n",
    "result_channel\n"
   ]
  },
  {
   "cell_type": "code",
   "execution_count": null,
   "id": "56b7d316-85c6-42e1-a94b-1058899e7f62",
   "metadata": {},
   "outputs": [],
   "source": [
    "print(f\"SOMA DOS VALORES R$ {sumo},00\")"
   ]
  },
  {
   "cell_type": "code",
   "execution_count": null,
   "id": "8a78697e-d22a-42c6-aa05-5d73be824ad2",
   "metadata": {},
   "outputs": [],
   "source": [
    "result_channel = agrupar_por_coluna(df_combined, coluna_agrupamento=\"DATA\")\n",
    "\n",
    "\n",
    "result_channel['Receita por produtos (BRL)'] = result_channel['Receita por produtos (BRL)'].apply(\n",
    "    lambda x: f\"R$ {x:,.2f}\".replace(',', 'X').replace('.', ',').replace('X', '.')\n",
    ")\n",
    "print(result_channel)\n"
   ]
  },
  {
   "cell_type": "code",
   "execution_count": 58,
   "id": "5b788f2d-019d-40ad-967a-c7341aead7d5",
   "metadata": {},
   "outputs": [],
   "source": [
    "df_combined.to_csv(\"exported/VENDAS-INTERNAS.csv\", index=False)"
   ]
  },
  {
   "cell_type": "code",
   "execution_count": null,
   "id": "1a0a8dd9-bd38-498e-a852-9413b1c1aa3d",
   "metadata": {},
   "outputs": [],
   "source": [
    "df_combined_2.to_csv(\"exported/VENDAS-PLATAFORMA.csv\", index=False)"
   ]
  },
  {
   "cell_type": "code",
   "execution_count": null,
   "id": "ed354f75-a9a2-4bcc-9ce7-c526d1f5c027",
   "metadata": {},
   "outputs": [],
   "source": []
  },
  {
   "cell_type": "code",
   "execution_count": null,
   "id": "a5a63326-4fbe-413e-9d8d-a467a82cf07a",
   "metadata": {},
   "outputs": [],
   "source": []
  },
  {
   "cell_type": "code",
   "execution_count": null,
   "id": "d74cc5ba-b9a4-4839-863d-1fd91dfed47c",
   "metadata": {},
   "outputs": [],
   "source": []
  }
 ],
 "metadata": {
  "kernelspec": {
   "display_name": "Python 3 (ipykernel)",
   "language": "python",
   "name": "python3"
  },
  "language_info": {
   "codemirror_mode": {
    "name": "ipython",
    "version": 3
   },
   "file_extension": ".py",
   "mimetype": "text/x-python",
   "name": "python",
   "nbconvert_exporter": "python",
   "pygments_lexer": "ipython3",
   "version": "3.12.7"
  }
 },
 "nbformat": 4,
 "nbformat_minor": 5
}
