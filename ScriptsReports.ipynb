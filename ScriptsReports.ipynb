{
 "cells": [
  {
   "cell_type": "code",
   "execution_count": 80,
   "id": "e8250c50-0445-42fd-ac30-7da37dc7ed18",
   "metadata": {},
   "outputs": [],
   "source": [
    "import pandas as pd"
   ]
  },
  {
   "cell_type": "markdown",
   "id": "1b4eb74e-aece-42de-9529-cb98f5cb9f0e",
   "metadata": {},
   "source": [
    "# Funções "
   ]
  },
  {
   "cell_type": "code",
   "execution_count": 83,
   "id": "ab1c3d53-abd2-4709-84ef-85e243026c6e",
   "metadata": {},
   "outputs": [],
   "source": [
    "# ler arquivo\n",
    "def read_csv(path):\n",
    "    df = pd.read_csv(path)\n",
    "    df.drop(columns=[\"Código (SKU)\"], inplace=True)\n",
    "    print(df.shape)\n",
    "    return df   "
   ]
  },
  {
   "cell_type": "markdown",
   "id": "e2080265-e22a-4d30-a21b-51eaebf6ee39",
   "metadata": {},
   "source": [
    "# dados"
   ]
  },
  {
   "cell_type": "code",
   "execution_count": 86,
   "id": "340aa41e-d728-45fd-8dd1-75d70a92c626",
   "metadata": {},
   "outputs": [
    {
     "name": "stdout",
     "output_type": "stream",
     "text": [
      "(37, 3)\n",
      "(16, 3)\n",
      "(12, 3)\n",
      "(4, 3)\n",
      "(50, 3)\n"
     ]
    }
   ],
   "source": [
    "pagos = read_csv('pagos-proprios.csv')\n",
    "pagos_thiago = read_csv(\"pagos-thiago.csv\")\n",
    "nao_pagos = read_csv(\"nao-pagos-abertos-mes-2.csv\")\n",
    "nao_pagos_thiago = read_csv(\"nao-pagos-abertos-mes-2-thiago.csv\")\n",
    "leiloes = read_csv(\"itens-leiloes.csv\")\n",
    "lista_leiloes = leiloes['Produto'].to_list()"
   ]
  },
  {
   "cell_type": "markdown",
   "id": "6e481e5a-b663-4547-ba36-ac568cff6461",
   "metadata": {},
   "source": [
    "### preenchendo variaveis"
   ]
  },
  {
   "cell_type": "code",
   "execution_count": 89,
   "id": "d2d7094b-9966-4523-9692-9a8e4ca0a5d5",
   "metadata": {},
   "outputs": [],
   "source": [
    "# definindo status da venda\n",
    "v_status = 'Status'\n",
    "pagos[v_status] = \"recebido\"\n",
    "pagos_thiago[v_status] = \"recebido\"\n",
    "nao_pagos[v_status] = \"pendente\"\n",
    "nao_pagos_thiago[v_status] = \"pendente\"\n",
    "\n",
    "\n",
    "# definindo se é tercerizada \n",
    "v_stock = \"Estoque\"\n",
    "pagos[v_stock] = \"collectors\"\n",
    "nao_pagos[v_stock] = \"collectors\"\n",
    "pagos_thiago[v_stock] = \"thiago\"\n",
    "nao_pagos_thiago[v_stock] = \"thiago\"\n",
    "\n"
   ]
  },
  {
   "cell_type": "markdown",
   "id": "dd50eb7e-ea2e-4968-82e3-3eba74c29bc9",
   "metadata": {},
   "source": [
    "### Concatenando"
   ]
  },
  {
   "cell_type": "code",
   "execution_count": 92,
   "id": "82c4feed-1d49-4aed-bffe-731e0d17539b",
   "metadata": {},
   "outputs": [],
   "source": [
    "# juntando \n",
    "def concat(df1,df2):\n",
    "    result = pd.concat([df1, df2], axis=0)\n",
    "    return result"
   ]
  },
  {
   "cell_type": "code",
   "execution_count": 94,
   "id": "ae418b1b-4a4d-4ae9-8a3f-8d4cf0e41d3c",
   "metadata": {},
   "outputs": [],
   "source": [
    "todos_pagos = concat(pagos, pagos_thiago)\n",
    "todos_nao_pagos = concat(nao_pagos, nao_pagos_thiago)\n",
    "todos_junto = concat(todos_pagos, todos_nao_pagos)"
   ]
  },
  {
   "cell_type": "markdown",
   "id": "53d5df16-fabc-4a4d-a459-097400bd56b0",
   "metadata": {},
   "source": [
    "# totais "
   ]
  },
  {
   "cell_type": "code",
   "execution_count": 97,
   "id": "9e01ff06-0479-4402-a034-06a9f459b1d2",
   "metadata": {},
   "outputs": [
    {
     "data": {
      "text/html": [
       "<div>\n",
       "<style scoped>\n",
       "    .dataframe tbody tr th:only-of-type {\n",
       "        vertical-align: middle;\n",
       "    }\n",
       "\n",
       "    .dataframe tbody tr th {\n",
       "        vertical-align: top;\n",
       "    }\n",
       "\n",
       "    .dataframe thead th {\n",
       "        text-align: right;\n",
       "    }\n",
       "</style>\n",
       "<table border=\"1\" class=\"dataframe\">\n",
       "  <thead>\n",
       "    <tr style=\"text-align: right;\">\n",
       "      <th>Estoque</th>\n",
       "      <th>collectors</th>\n",
       "      <th>thiago</th>\n",
       "      <th>Total</th>\n",
       "    </tr>\n",
       "    <tr>\n",
       "      <th>Status</th>\n",
       "      <th></th>\n",
       "      <th></th>\n",
       "      <th></th>\n",
       "    </tr>\n",
       "  </thead>\n",
       "  <tbody>\n",
       "    <tr>\n",
       "      <th>pendente</th>\n",
       "      <td>R$ 10.810,00</td>\n",
       "      <td>R$ 4.840,00</td>\n",
       "      <td>R$ 15.650,00</td>\n",
       "    </tr>\n",
       "    <tr>\n",
       "      <th>recebido</th>\n",
       "      <td>R$ 13.770,00</td>\n",
       "      <td>R$ 23.390,00</td>\n",
       "      <td>R$ 37.160,00</td>\n",
       "    </tr>\n",
       "    <tr>\n",
       "      <th>Total</th>\n",
       "      <td>R$ 24.580,00</td>\n",
       "      <td>R$ 28.230,00</td>\n",
       "      <td>R$ 52.810,00</td>\n",
       "    </tr>\n",
       "  </tbody>\n",
       "</table>\n",
       "</div>"
      ],
      "text/plain": [
       "Estoque     collectors        thiago         Total\n",
       "Status                                            \n",
       "pendente  R$ 10.810,00   R$ 4.840,00  R$ 15.650,00\n",
       "recebido  R$ 13.770,00  R$ 23.390,00  R$ 37.160,00\n",
       "Total     R$ 24.580,00  R$ 28.230,00  R$ 52.810,00"
      ]
     },
     "execution_count": 97,
     "metadata": {},
     "output_type": "execute_result"
    }
   ],
   "source": [
    "import pandas as pd\n",
    "\n",
    "# Criar a tabela cruzada\n",
    "comp = pd.crosstab(\n",
    "    todos_junto['Status'],\n",
    "    todos_junto['Estoque'],\n",
    "    values=todos_junto['Valor'],\n",
    "    aggfunc='sum',\n",
    "    margins=True,\n",
    "    margins_name=\"Total\"\n",
    ")\n",
    "\n",
    "# Aplicar formatação para exibir valores em reais (R$)\n",
    "comp_formatado = comp.map(lambda x: f\"R$ {x:,.2f}\".replace(\",\", \"X\").replace(\".\", \",\").replace(\"X\", \".\"))\n",
    "\n",
    "# Exibir a tabela formatada no console\n",
    "comp_formatado\n"
   ]
  },
  {
   "cell_type": "code",
   "execution_count": 46,
   "id": "04f67d36-ccfc-4f9c-8d06-aa43d0351263",
   "metadata": {
    "jupyter": {
     "source_hidden": true
    }
   },
   "outputs": [],
   "source": [
    "def filter_itens(df, list_):\n",
    "    filted_df = df[df[\"Produto\"].isin(list_)]\n",
    "    return filted_df"
   ]
  },
  {
   "cell_type": "code",
   "execution_count": 70,
   "id": "d9a10f29-d953-4fdf-bc0d-4639d6eb0255",
   "metadata": {
    "jupyter": {
     "source_hidden": true
    }
   },
   "outputs": [],
   "source": [
    "todos_thiago = todos_junto[todos_junto['Estoque'].isin([\"thiago\"])]\n",
    "todos = todos_junto[todos_junto['Estoque'].isin([\"collectors\"])]\n",
    "\n",
    "leiloes_thiago = filter_itens(todos_thiago, lista_leiloes)\n",
    "leiloes_c = filter_itens(todos, lista_leiloes)\n"
   ]
  },
  {
   "cell_type": "code",
   "execution_count": 74,
   "id": "02b91f7b-3ae9-47fa-abeb-f7d7906a7384",
   "metadata": {},
   "outputs": [
    {
     "data": {
      "text/plain": [
       "12630"
      ]
     },
     "execution_count": 74,
     "metadata": {},
     "output_type": "execute_result"
    }
   ],
   "source": [
    "leiloes_thiago[\"Valor\"].sum()"
   ]
  },
  {
   "cell_type": "code",
   "execution_count": 113,
   "id": "1542c1e2-7be7-442e-b370-d7f251a0355f",
   "metadata": {},
   "outputs": [
    {
     "data": {
      "text/plain": [
       "12630"
      ]
     },
     "execution_count": 113,
     "metadata": {},
     "output_type": "execute_result"
    }
   ],
   "source": [
    "n = leiloes_thiago[\"Valor\"].sum()\n",
    "n"
   ]
  },
  {
   "cell_type": "markdown",
   "id": "ae5021e9-0a3d-44be-8977-549e22f19076",
   "metadata": {},
   "source": [
    "# Resultados"
   ]
  },
  {
   "cell_type": "code",
   "execution_count": 101,
   "id": "6fc0c585-2f73-4617-b7c4-992c42f796c6",
   "metadata": {},
   "outputs": [
    {
     "data": {
      "text/html": [
       "<div>\n",
       "<style scoped>\n",
       "    .dataframe tbody tr th:only-of-type {\n",
       "        vertical-align: middle;\n",
       "    }\n",
       "\n",
       "    .dataframe tbody tr th {\n",
       "        vertical-align: top;\n",
       "    }\n",
       "\n",
       "    .dataframe thead th {\n",
       "        text-align: right;\n",
       "    }\n",
       "</style>\n",
       "<table border=\"1\" class=\"dataframe\">\n",
       "  <thead>\n",
       "    <tr style=\"text-align: right;\">\n",
       "      <th>Estoque</th>\n",
       "      <th>collectors</th>\n",
       "      <th>thiago</th>\n",
       "      <th>Total</th>\n",
       "    </tr>\n",
       "    <tr>\n",
       "      <th>Status</th>\n",
       "      <th></th>\n",
       "      <th></th>\n",
       "      <th></th>\n",
       "    </tr>\n",
       "  </thead>\n",
       "  <tbody>\n",
       "    <tr>\n",
       "      <th>pendente</th>\n",
       "      <td>R$ 10.810,00</td>\n",
       "      <td>R$ 4.840,00</td>\n",
       "      <td>R$ 15.650,00</td>\n",
       "    </tr>\n",
       "    <tr>\n",
       "      <th>recebido</th>\n",
       "      <td>R$ 13.770,00</td>\n",
       "      <td>R$ 23.390,00</td>\n",
       "      <td>R$ 37.160,00</td>\n",
       "    </tr>\n",
       "    <tr>\n",
       "      <th>Total</th>\n",
       "      <td>R$ 24.580,00</td>\n",
       "      <td>R$ 28.230,00</td>\n",
       "      <td>R$ 52.810,00</td>\n",
       "    </tr>\n",
       "  </tbody>\n",
       "</table>\n",
       "</div>"
      ],
      "text/plain": [
       "Estoque     collectors        thiago         Total\n",
       "Status                                            \n",
       "pendente  R$ 10.810,00   R$ 4.840,00  R$ 15.650,00\n",
       "recebido  R$ 13.770,00  R$ 23.390,00  R$ 37.160,00\n",
       "Total     R$ 24.580,00  R$ 28.230,00  R$ 52.810,00"
      ]
     },
     "execution_count": 101,
     "metadata": {},
     "output_type": "execute_result"
    }
   ],
   "source": [
    "comp_formatado"
   ]
  },
  {
   "cell_type": "code",
   "execution_count": 115,
   "id": "e9b51fce-df02-4184-b0d2-ce97be977efd",
   "metadata": {},
   "outputs": [
    {
     "name": "stdout",
     "output_type": "stream",
     "text": [
      "15600\n"
     ]
    }
   ],
   "source": [
    "print(28230 - n)"
   ]
  },
  {
   "cell_type": "code",
   "execution_count": null,
   "id": "f903d895-4c80-46e1-b20b-feb61d30574d",
   "metadata": {},
   "outputs": [],
   "source": []
  }
 ],
 "metadata": {
  "kernelspec": {
   "display_name": "Python 3 (ipykernel)",
   "language": "python",
   "name": "python3"
  },
  "language_info": {
   "codemirror_mode": {
    "name": "ipython",
    "version": 3
   },
   "file_extension": ".py",
   "mimetype": "text/x-python",
   "name": "python",
   "nbconvert_exporter": "python",
   "pygments_lexer": "ipython3",
   "version": "3.12.7"
  }
 },
 "nbformat": 4,
 "nbformat_minor": 5
}
