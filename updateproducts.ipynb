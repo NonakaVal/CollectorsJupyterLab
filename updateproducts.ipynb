{
 "cells": [
  {
   "cell_type": "code",
   "execution_count": 2,
   "id": "e0029442-27d9-4d85-871a-4aad6385b98a",
   "metadata": {},
   "outputs": [],
   "source": [
    "import os\n",
    "import pandas as pd\n",
    "import pyshorteners\n",
    "import time\n",
    "from datetime import datetime\n",
    "import requests\n",
    "from bs4 import BeautifulSoup"
   ]
  },
  {
   "cell_type": "code",
   "execution_count": 3,
   "id": "839a246e-80ea-4aba-b6f8-1ead566dcb37",
   "metadata": {
    "scrolled": true
   },
   "outputs": [
    {
     "name": "stdout",
     "output_type": "stream",
     "text": [
      "Files available:\n",
      "1: 02-01-2025 - ANUNCIOS.csv\n",
      "2: Anuncios-2025_01_06-19_07.xlsx\n"
     ]
    },
    {
     "name": "stdin",
     "output_type": "stream",
     "text": [
      "Select the Excel file (enter the number):  2\n",
      "Select the CSV file (enter the number):  1\n"
     ]
    },
    {
     "name": "stdout",
     "output_type": "stream",
     "text": [
      "Excel Data:\n",
      "(796, 17)\n",
      "\n",
      "CSV Data:\n",
      "(860, 21)\n",
      "\n",
      " Final df \n",
      "(869, 17)\n"
     ]
    }
   ],
   "source": [
    "# load and concat ml excel and intern data\n",
    "def list_files_in_directory(directory, file_extensions=['.csv', '.xlsx']):\n",
    "    # List all files in the directory with specific extensions\n",
    "    files = [f for f in os.listdir(directory) if os.path.isfile(os.path.join(directory, f))]\n",
    "    filtered_files = [f for f in files if any(f.endswith(ext) for ext in file_extensions)]\n",
    "    return filtered_files\n",
    "\n",
    "def load_data(path_excel, path_csv, sheet_name_value=2):\n",
    "    data_excel = pd.read_excel(path_excel, \n",
    "                               sheet_name=sheet_name_value, \n",
    "                               skiprows=range(1, 6))\n",
    "    data_excel['STATUS'] = data_excel['STATUS'].str.strip()\n",
    "    data_excel = data_excel.drop_duplicates(subset='ITEM_ID', keep='first')\n",
    "    data_excel = data_excel.drop(columns=['VARIATIONS', 'VARIATION_ID'])\n",
    "    \n",
    "    data_csv = pd.read_csv(path_csv)\n",
    "\n",
    "    return data_excel, data_csv\n",
    "    \n",
    "def select_files_and_load_data(directory):\n",
    "    # List files\n",
    "    files = list_files_in_directory(directory)\n",
    "    if not files:\n",
    "        print(\"No files found in the directory.\")\n",
    "        return None, None \n",
    "    # Display files to the user\n",
    "    print(\"Files available:\")\n",
    "    for idx, file in enumerate(files):\n",
    "        print(f\"{idx + 1}: {file}\")\n",
    "    \n",
    "    # Prompt the user to select files\n",
    "    try:\n",
    "        excel_idx = int(input(\"Select the Excel file (enter the number): \")) - 1\n",
    "        csv_idx = int(input(\"Select the CSV file (enter the number): \")) - 1\n",
    "        if excel_idx < 0 or excel_idx >= len(files) or csv_idx < 0 or csv_idx >= len(files):\n",
    "            raise ValueError(\"Invalid file selection.\")\n",
    "    except ValueError as e:\n",
    "        print(f\"Error: {e}\")\n",
    "        return None, None\n",
    "    \n",
    "    # Load the data using load_data\n",
    "    excel_file = os.path.join(directory, files[excel_idx])\n",
    "    csv_file = os.path.join(directory, files[csv_idx])\n",
    "    \n",
    "    return load_data(excel_file, csv_file)\n",
    "    \n",
    "data_excel, data_csv = select_files_and_load_data('data')\n",
    "\n",
    "if data_excel is not None and data_csv is not None:\n",
    "    print(\"Excel Data:\")\n",
    "    print(data_excel.shape)\n",
    "    print(\"\\nCSV Data:\")\n",
    "    print(data_csv.shape)\n",
    "\n",
    "\n",
    "def fill_sku_(df_with_sku, df_without_sku):\n",
    "    \"\"\"Preenche os SKUs em df_without_sku com base em df_with_sku (usando ITEM_ID como chave).\"\"\"\n",
    "    merged_data = df_without_sku.merge(df_with_sku[['ITEM_ID', 'SKU']], on='ITEM_ID', how='left', suffixes=('', '_from_df1'))\n",
    "    merged_data['SKU'] = merged_data['SKU_from_df1']\n",
    "    merged_data.drop(columns=['SKU_from_df1'], inplace=True)\n",
    "    return merged_data\n",
    "\n",
    "df = fill_sku_(data_csv, data_excel)\n",
    "\n",
    "print(f\"\\n Final df \\n{df.shape}\")"
   ]
  },
  {
   "cell_type": "code",
   "execution_count": 12,
   "id": "fe9748cf-b508-453b-a27f-d31ac356de27",
   "metadata": {
    "scrolled": true
   },
   "outputs": [
    {
     "data": {
      "text/plain": [
       "array(['Relógios de bolso', 'Videogames',\n",
       "       'Figuras interativas para videogames', 'Gamepads e joysticks',\n",
       "       'Consoles de videogames', 'Produtos não classificados',\n",
       "       'Relógios de pulso',\n",
       "       'Consoles de videogames, videogames e máquinas de fliperama',\n",
       "       'Figuras de ação',\n",
       "       'Controles remotos multimídia para consoles de videogames',\n",
       "       'Camisetas', 'Fontes de alimentação para consoles de videogames',\n",
       "       'Skins para consoles e controles de videogames',\n",
       "       'Relógios de parede', 'Cabos e adaptadores de áudio e vídeo',\n",
       "       'Álbuns de música antigos', 'Monitores de computadores',\n",
       "       'Copos e taças', 'Tênis',\n",
       "       'Câmeras e barras sensoras para consoles de videogames',\n",
       "       'Suportes para reprodutores de vídeo e consoles de videogames',\n",
       "       'Capas e estojos para consoles de videogames',\n",
       "       'Cartões de memória', 'Óculos de realidade virtual',\n",
       "       'Veículos em miniatura', 'Livros', 'Camisas de futebol',\n",
       "       'Álbuns de música', 'Brinquedos e hobbies', 'Canecas'],\n",
       "      dtype=object)"
      ]
     },
     "execution_count": 12,
     "metadata": {},
     "output_type": "execute_result"
    }
   ],
   "source": [
    "df['CATEGORY'].unique()"
   ]
  },
  {
   "cell_type": "code",
   "execution_count": 14,
   "id": "f4e60b6c-ad1f-47cd-b142-191bb9893e24",
   "metadata": {},
   "outputs": [
    {
     "data": {
      "text/plain": [
       "Index(['ITEM_ID', 'SKU', 'TITLE', 'QUANTITY', 'CHANNEL', 'MARKETPLACE_PRICE',\n",
       "       'MSHOPS_PRICE', 'MSHOPS_PRICE_SYNC', 'CURRENCY_ID', 'DESCRIPTION',\n",
       "       'SHIPPING_METHOD_MARKETPLACE', 'SHIPPING_METHOD_MSHOPS', 'LISTING_TYPE',\n",
       "       'FEE_PER_SALE_MARKETPLACE', 'FEE_PER_SALE_MSHOPS', 'STATUS', 'CATEGORY',\n",
       "       'CATEGORY_ID'],\n",
       "      dtype='object')"
      ]
     },
     "execution_count": 14,
     "metadata": {},
     "output_type": "execute_result"
    }
   ],
   "source": [
    "categorias = {\n",
    "    'Videogames': '001',\n",
    "    'Figuras de ação': '002',\n",
    "    'Consoles de videogames': '003',\n",
    "    'Gamepads e joysticks': '004',\n",
    "    'Figuras interativas para videogames': '005',\n",
    "    'Consoles de videogames, videogames e máquinas de fliperama': '006',\n",
    "    'Relógios de pulso': '007',\n",
    "    'Skins para consoles e controles de videogames': '008',\n",
    "    'Camisetas': '009',\n",
    "    'Livros': '010',\n",
    "    'Veículos em miniatura': '011',\n",
    "    'Camisas de futebol': '012',\n",
    "    'Câmeras e barras sensoras para consoles de videogames': '013',\n",
    "    'Controles remotos multimídia para consoles de videogames': '014',\n",
    "    'Tênis': '015',\n",
    "    'Brinquedos e hobbies': '016',\n",
    "    'Produtos não classificados': '017',\n",
    "    'Controles remotos para reprodutores de vídeo': '018',\n",
    "    'Óculos de realidade virtual': '019',\n",
    "    'Relógios de parede': '020',\n",
    "    'Relógios de bolso': '021',\n",
    "    'Luminárias de mesa e escritório': '022',\n",
    "    'Canecas': '023',\n",
    "    'Suportes para reprodutores de vídeo e consoles de videogames': '024',\n",
    "    'Copos e taças': '025',\n",
    "    'Álbuns de música antigos': '026',\n",
    "    'Capas e estojos para consoles de videogames': '027',\n",
    "    'Cartões de memória': '028',\n",
    "    'Fontes de alimentação para consoles de videogames': '029',\n",
    "    'Cabos e adaptadores de áudio e vídeo' : '030'\n",
    "}\n",
    "df['CATEGORY_ID'] = df['CATEGORY'].map(categorias)\n",
    "df.columns\n"
   ]
  },
  {
   "cell_type": "code",
   "execution_count": 16,
   "id": "a8643589-d39d-41c2-8efe-041bfc01fdde",
   "metadata": {},
   "outputs": [
    {
     "name": "stdout",
     "output_type": "stream",
     "text": [
      "                                                TITLE            SKU  \\\n",
      "0   Metal Gear Rising: Revengeance - Special Editi...  001-2501-0005   \n",
      "1                       Biohazard Revelations 2 - Ps3  001-2501-0006   \n",
      "2                Biohazard Revival Selection - Hd Ps3  001-2501-0007   \n",
      "3      Amiibo Donkey Kong - Lacrado Nintendo Original  005-2501-0001   \n",
      "4        Sony Playstation Dualshock 3 - Preto (usado)  004-2501-0002   \n",
      "5   Playstation 4 20th Anniversary Limited Edition...  003-2501-0001   \n",
      "6       Memory Card De 8mb Para O Playstation 2 (ps2)  006-2501-0001   \n",
      "7   Vmu (visual Memory Unit) Verde - Sega Dreamcas...  006-2501-0002   \n",
      "8   Vmu (visual Memory Unit) - Preto -  Sega Dream...  006-2501-0003   \n",
      "9   Vmu (visual Memory Unit) Vermelho- Sega Dreamc...  006-2501-0004   \n",
      "10         Figure Pikachu E Eevee Original/licenciado  002-2501-0003   \n",
      "11            Ocelot Bust Figure - Metal Gear Solid V  002-2501-0004   \n",
      "12     Suporte Vertical Ps4 Sony - Usado (incompleto)  024-2501-0001   \n",
      "13                Memory Card Ps2 Branco- 8mb (usado)  028-2501-0001   \n",
      "14                 Memory Card Ps2 Azul - 8mb (usado)  028-2501-0002   \n",
      "15                Memory Card Ps2 Verde - 8mb (usado)  028-2501-0003   \n",
      "\n",
      "          ITEM_ID  \n",
      "0   MLB5246020984  \n",
      "1   MLB5246043288  \n",
      "2   MLB5246350926  \n",
      "3   MLB5245968464  \n",
      "4   MLB5246625408  \n",
      "5   MLB5245975858  \n",
      "6   MLB5246550562  \n",
      "7   MLB5246486244  \n",
      "8   MLB5246544930  \n",
      "9   MLB5246608906  \n",
      "10  MLB5246004044  \n",
      "11  MLB5246388590  \n",
      "12  MLB5246617270  \n",
      "13  MLB3946895585  \n",
      "14  MLB5246628252  \n",
      "15  MLB5246654388  \n"
     ]
    },
    {
     "data": {
      "text/html": [
       "<div>\n",
       "<style scoped>\n",
       "    .dataframe tbody tr th:only-of-type {\n",
       "        vertical-align: middle;\n",
       "    }\n",
       "\n",
       "    .dataframe tbody tr th {\n",
       "        vertical-align: top;\n",
       "    }\n",
       "\n",
       "    .dataframe thead th {\n",
       "        text-align: right;\n",
       "    }\n",
       "</style>\n",
       "<table border=\"1\" class=\"dataframe\">\n",
       "  <thead>\n",
       "    <tr style=\"text-align: right;\">\n",
       "      <th></th>\n",
       "      <th>ITEM_ID</th>\n",
       "      <th>SKU</th>\n",
       "      <th>TITLE</th>\n",
       "      <th>QUANTITY</th>\n",
       "      <th>CHANNEL</th>\n",
       "      <th>MARKETPLACE_PRICE</th>\n",
       "      <th>MSHOPS_PRICE</th>\n",
       "      <th>MSHOPS_PRICE_SYNC</th>\n",
       "      <th>CURRENCY_ID</th>\n",
       "      <th>DESCRIPTION</th>\n",
       "      <th>SHIPPING_METHOD_MARKETPLACE</th>\n",
       "      <th>SHIPPING_METHOD_MSHOPS</th>\n",
       "      <th>LISTING_TYPE</th>\n",
       "      <th>FEE_PER_SALE_MARKETPLACE</th>\n",
       "      <th>FEE_PER_SALE_MSHOPS</th>\n",
       "      <th>STATUS</th>\n",
       "      <th>CATEGORY</th>\n",
       "      <th>CATEGORY_ID</th>\n",
       "      <th>ITEM_LINK</th>\n",
       "      <th>URL</th>\n",
       "    </tr>\n",
       "  </thead>\n",
       "  <tbody>\n",
       "    <tr>\n",
       "      <th>0</th>\n",
       "      <td>MLB3420123395</td>\n",
       "      <td>021-2410-0001</td>\n",
       "      <td>Pocket Watch Limited Edition Super Mário Bros ...</td>\n",
       "      <td>1</td>\n",
       "      <td>Mercado Livre e Mercado Shops</td>\n",
       "      <td>400.0</td>\n",
       "      <td>350.0</td>\n",
       "      <td>No Vincular</td>\n",
       "      <td>R$</td>\n",
       "      <td>Apresentando o Relógio de Bolso Super Mario Br...</td>\n",
       "      <td>Mercado Envios grátis</td>\n",
       "      <td>Mercado Envios grátis</td>\n",
       "      <td>Premium</td>\n",
       "      <td>NaN</td>\n",
       "      <td>NaN</td>\n",
       "      <td>Ativo</td>\n",
       "      <td>Relógios de bolso</td>\n",
       "      <td>021</td>\n",
       "      <td>https://www.mercadolivre.com.br/anuncios/lista...</td>\n",
       "      <td>https://www.collectorsguardian.com.br/MLB-3420...</td>\n",
       "    </tr>\n",
       "    <tr>\n",
       "      <th>1</th>\n",
       "      <td>MLB3607686939</td>\n",
       "      <td>001-2410-0462</td>\n",
       "      <td>Rain - Ps3 Exclusivo Sony - Jogo Incomum - Jap...</td>\n",
       "      <td>1</td>\n",
       "      <td>Mercado Livre e Mercado Shops</td>\n",
       "      <td>600.0</td>\n",
       "      <td>450.0</td>\n",
       "      <td>No Vincular</td>\n",
       "      <td>R$</td>\n",
       "      <td>Este título cativante é cobiçado por coleciona...</td>\n",
       "      <td>Envios por conta própria</td>\n",
       "      <td>Mercado Envios por conta do comprador</td>\n",
       "      <td>Premium</td>\n",
       "      <td>NaN</td>\n",
       "      <td>NaN</td>\n",
       "      <td>Ativo</td>\n",
       "      <td>Videogames</td>\n",
       "      <td>001</td>\n",
       "      <td>https://www.mercadolivre.com.br/anuncios/lista...</td>\n",
       "      <td>https://www.collectorsguardian.com.br/MLB-3607...</td>\n",
       "    </tr>\n",
       "  </tbody>\n",
       "</table>\n",
       "</div>"
      ],
      "text/plain": [
       "         ITEM_ID            SKU  \\\n",
       "0  MLB3420123395  021-2410-0001   \n",
       "1  MLB3607686939  001-2410-0462   \n",
       "\n",
       "                                               TITLE  QUANTITY  \\\n",
       "0  Pocket Watch Limited Edition Super Mário Bros ...         1   \n",
       "1  Rain - Ps3 Exclusivo Sony - Jogo Incomum - Jap...         1   \n",
       "\n",
       "                         CHANNEL  MARKETPLACE_PRICE  MSHOPS_PRICE  \\\n",
       "0  Mercado Livre e Mercado Shops              400.0         350.0   \n",
       "1  Mercado Livre e Mercado Shops              600.0         450.0   \n",
       "\n",
       "  MSHOPS_PRICE_SYNC CURRENCY_ID  \\\n",
       "0       No Vincular          R$   \n",
       "1       No Vincular          R$   \n",
       "\n",
       "                                         DESCRIPTION  \\\n",
       "0  Apresentando o Relógio de Bolso Super Mario Br...   \n",
       "1  Este título cativante é cobiçado por coleciona...   \n",
       "\n",
       "  SHIPPING_METHOD_MARKETPLACE                 SHIPPING_METHOD_MSHOPS  \\\n",
       "0       Mercado Envios grátis                  Mercado Envios grátis   \n",
       "1    Envios por conta própria  Mercado Envios por conta do comprador   \n",
       "\n",
       "  LISTING_TYPE  FEE_PER_SALE_MARKETPLACE  FEE_PER_SALE_MSHOPS STATUS  \\\n",
       "0      Premium                       NaN                  NaN  Ativo   \n",
       "1      Premium                       NaN                  NaN  Ativo   \n",
       "\n",
       "            CATEGORY CATEGORY_ID  \\\n",
       "0  Relógios de bolso         021   \n",
       "1         Videogames         001   \n",
       "\n",
       "                                           ITEM_LINK  \\\n",
       "0  https://www.mercadolivre.com.br/anuncios/lista...   \n",
       "1  https://www.mercadolivre.com.br/anuncios/lista...   \n",
       "\n",
       "                                                 URL  \n",
       "0  https://www.collectorsguardian.com.br/MLB-3420...  \n",
       "1  https://www.collectorsguardian.com.br/MLB-3607...  "
      ]
     },
     "execution_count": 16,
     "metadata": {},
     "output_type": "execute_result"
    }
   ],
   "source": [
    "def update_product_skus(data):\n",
    "    \n",
    "    current_year_month = datetime.now().strftime(\"%y%m\")  # Ano e mês atual no formato \"yyMM\"\n",
    "    \n",
    "    # Preparando para rastrear informações adicionais sobre novos SKUs\n",
    "    new_skus_list = []\n",
    "    new_skus_details = []  # Lista para armazenar detalhes para novos SKUs incluindo ITEM_ID e TITLE\n",
    "\n",
    "    # Certifique-se de que CATEGORY_ID tenha 3 dígitos\n",
    "    data['CATEGORY_ID'] = data['CATEGORY_ID'].str.zfill(3)\n",
    "\n",
    "    # Dicionário para rastrear o contador por categoria e mês\n",
    "    category_counters = {}\n",
    "\n",
    "    for category_id in data['CATEGORY_ID'].unique():\n",
    "        category_mask = data['CATEGORY_ID'] == category_id\n",
    "\n",
    "        # Filtra os SKUs existentes dessa categoria e mês\n",
    "        existing_skus = data.loc[category_mask & data['SKU'].notna(), 'SKU']\n",
    "\n",
    "        # Verifica o ano/mês atual para a categoria\n",
    "        year_month = current_year_month\n",
    "\n",
    "        # Extraímos os contadores do SKU, considerando a categoria e mês\n",
    "        counters = existing_skus.str.extract(f\"^{category_id}-{year_month}-(\\\\d{{4}})$\")[0]\n",
    "        valid_counters = pd.to_numeric(counters, errors='coerce').dropna().astype(int)\n",
    "        \n",
    "        # Define o próximo contador, baseado no maior contador existente, ou inicia em 1\n",
    "        if not valid_counters.empty:\n",
    "            next_counter = valid_counters.max() + 1\n",
    "        else:\n",
    "            next_counter = 1\n",
    "\n",
    "        # Filtra os índices dos produtos sem SKU\n",
    "        null_skus_indices = data.index[category_mask & data['SKU'].isna()]\n",
    "        for idx in null_skus_indices:\n",
    "            # Gera um SKU único com base na categoria, ano/mês e o contador\n",
    "            new_sku = f\"{category_id}-{year_month}-{next_counter:04d}\"\n",
    "            data.at[idx, 'SKU'] = new_sku\n",
    "            new_skus_list.append(new_sku)\n",
    "            new_skus_details.append({\n",
    "                'TITLE': data.at[idx, 'TITLE'],\n",
    "                'SKU': new_sku,\n",
    "                'ITEM_ID': data.at[idx, 'ITEM_ID'],\n",
    "            })\n",
    "\n",
    "            # Incrementa o contador após gerar o SKU para o próximo\n",
    "            next_counter += 1\n",
    "\n",
    "    # Converte a lista de dicionários em DataFrame\n",
    "    new_skus_data = pd.DataFrame(new_skus_details)  # Agora inclui ITEM_ID e TITLE\n",
    "\n",
    "    return data, new_skus_data\n",
    "\n",
    "def get_links(data):\n",
    "    data['ITEM_LINK'] = data['ITEM_ID'].apply(\n",
    "        lambda x: f\"https://www.mercadolivre.com.br/anuncios/lista?filters=OMNI_ACTIVE|OMNI_INACTIVE|CHANNEL_NO_PROXIMITY_AND_NO_MP_MERCHANTS&page=1&search={x[3:]}\" if pd.notnull(x) else \"\")\n",
    "\n",
    "    data['URL'] = data.apply(\n",
    "        lambda row: f\"https://www.collectorsguardian.com.br/{row['ITEM_ID'][:3]}-{row['ITEM_ID'][3:]}-{row['TITLE'].replace(' ', '-').lower()}-_JM#item_id={row['ITEM_ID']}\", \n",
    "        axis=1)\n",
    "\n",
    "    return data\n",
    "    \n",
    "data, news = update_product_skus(df)\n",
    "print(news)\n",
    "data = get_links(data)\n",
    "data.head(2)\n"
   ]
  },
  {
   "cell_type": "code",
   "execution_count": null,
   "id": "9348cfa2-f177-40f6-b093-087d525607df",
   "metadata": {},
   "outputs": [],
   "source": []
  },
  {
   "cell_type": "code",
   "execution_count": 18,
   "id": "c85b027c-41cc-4b31-9171-0e3342394f95",
   "metadata": {},
   "outputs": [
    {
     "data": {
      "text/plain": [
       "(869, 20)"
      ]
     },
     "execution_count": 18,
     "metadata": {},
     "output_type": "execute_result"
    }
   ],
   "source": [
    "data.shape"
   ]
  },
  {
   "cell_type": "code",
   "execution_count": 20,
   "id": "9cf56cef-b5f5-4afb-b240-1fa41c8ac37b",
   "metadata": {
    "scrolled": true
   },
   "outputs": [
    {
     "data": {
      "text/plain": [
       "ITEM_ID                          0\n",
       "SKU                              0\n",
       "TITLE                            0\n",
       "QUANTITY                         0\n",
       "CHANNEL                          0\n",
       "MARKETPLACE_PRICE                0\n",
       "MSHOPS_PRICE                     0\n",
       "MSHOPS_PRICE_SYNC                0\n",
       "CURRENCY_ID                      0\n",
       "DESCRIPTION                     17\n",
       "SHIPPING_METHOD_MARKETPLACE      0\n",
       "SHIPPING_METHOD_MSHOPS           0\n",
       "LISTING_TYPE                     0\n",
       "FEE_PER_SALE_MARKETPLACE       869\n",
       "FEE_PER_SALE_MSHOPS            869\n",
       "STATUS                           0\n",
       "CATEGORY                         0\n",
       "CATEGORY_ID                      2\n",
       "ITEM_LINK                        0\n",
       "URL                              0\n",
       "dtype: int64"
      ]
     },
     "execution_count": 20,
     "metadata": {},
     "output_type": "execute_result"
    }
   ],
   "source": [
    "data.isna().sum(\n",
    "    \n",
    ")"
   ]
  },
  {
   "cell_type": "code",
   "execution_count": 22,
   "id": "6520fdbc-c89c-4833-856b-55fb9e0e23f2",
   "metadata": {},
   "outputs": [
    {
     "name": "stdout",
     "output_type": "stream",
     "text": [
      "Erro ao processar https://www.collectorsguardian.com.br/MLB-3783999901-assassins-creed---playstation-3-_JM#item_id=MLB3783999901: 429 Client Error: Too Many Requests for url: https://www.collectorsguardian.com.br/MLB-3783999901-assassins-creed---playstation-3-_JM#item_id=MLB3783999901\n",
      "Erro ao processar https://www.collectorsguardian.com.br/MLB-3869330843-yoshi-island-super-nintendo-original-_JM#item_id=MLB3869330843: 429 Client Error: Too Many Requests for url: https://www.collectorsguardian.com.br/MLB-3869330843-yoshi-island-super-nintendo-original-_JM#item_id=MLB3869330843\n",
      "Erro ao processar https://www.collectorsguardian.com.br/MLB-3936838915-capa-covers-ps5-final-fantasy-xvi-versão-com-disco-_JM#item_id=MLB3936838915: 429 Client Error: Too Many Requests for url: https://www.collectorsguardian.com.br/MLB-3936838915-capa-covers-ps5-final-fantasy-xvi-vers%C3%A3o-com-disco-_JM#item_id=MLB3936838915\n"
     ]
    },
    {
     "data": {
      "text/plain": [
       "(869, 21)"
      ]
     },
     "execution_count": 22,
     "metadata": {},
     "output_type": "execute_result"
    }
   ],
   "source": [
    "\n",
    "def extract_first_src(url):\n",
    "    try:\n",
    "        response = requests.get(url)\n",
    "        response.raise_for_status()\n",
    "\n",
    "        soup = BeautifulSoup(response.text, 'html.parser')\n",
    "    \n",
    "        img_tag = soup.find('img', class_='ui-pdp-image ui-pdp-gallery__figure__image')\n",
    "        if img_tag and 'src' in img_tag.attrs:\n",
    "            return img_tag['src']\n",
    "        return None  # Caso a tag ou atributo não seja encontrado\n",
    "    except Exception as e:\n",
    "        print(f\"Erro ao processar {url}: {e}\")\n",
    "        return None\n",
    "\n",
    "# Aplicando a função a cada link no DataFrame\n",
    "df['IMG'] = df['URL'].apply(extract_first_src)\n",
    "\n",
    "# Exibindo o DataFrame com a nova coluna\n",
    "df.shape\n"
   ]
  },
  {
   "cell_type": "code",
   "execution_count": 19,
   "id": "54a181bd-6d5f-4434-bb08-e0a4e0bae1c0",
   "metadata": {},
   "outputs": [
    {
     "data": {
      "text/plain": [
       "Index(['ITEM_ID', 'SKU', 'TITLE', 'QUANTITY', 'CHANNEL', 'MARKETPLACE_PRICE',\n",
       "       'MSHOPS_PRICE', 'MSHOPS_PRICE_SYNC', 'CURRENCY_ID', 'DESCRIPTION',\n",
       "       'SHIPPING_METHOD_MARKETPLACE', 'SHIPPING_METHOD_MSHOPS', 'LISTING_TYPE',\n",
       "       'FEE_PER_SALE_MARKETPLACE', 'FEE_PER_SALE_MSHOPS', 'STATUS', 'CATEGORY',\n",
       "       'CATEGORY_ID', 'ITEM_LINK', 'URL', 'IMG'],\n",
       "      dtype='object')"
      ]
     },
     "execution_count": 19,
     "metadata": {},
     "output_type": "execute_result"
    }
   ],
   "source": [
    "df.columns"
   ]
  },
  {
   "cell_type": "code",
   "execution_count": 24,
   "id": "fd8b6a20-3fa4-4649-8883-7c70c99e0dad",
   "metadata": {},
   "outputs": [],
   "source": [
    "# Exportar múltiplos dataframes para um único arquivo Excel\n",
    "with pd.ExcelWriter(\"06-01-2025.xlsx\", engine='openpyxl') as writer:\n",
    "    data.to_excel(writer, sheet_name='PRODUTOS', index=False)\n",
    "\n"
   ]
  },
  {
   "cell_type": "code",
   "execution_count": null,
   "id": "a3a7b547-b7dd-479e-981f-b442b4b894a0",
   "metadata": {},
   "outputs": [],
   "source": []
  }
 ],
 "metadata": {
  "kernelspec": {
   "display_name": "Python 3 (ipykernel)",
   "language": "python",
   "name": "python3"
  },
  "language_info": {
   "codemirror_mode": {
    "name": "ipython",
    "version": 3
   },
   "file_extension": ".py",
   "mimetype": "text/x-python",
   "name": "python",
   "nbconvert_exporter": "python",
   "pygments_lexer": "ipython3",
   "version": "3.12.7"
  }
 },
 "nbformat": 4,
 "nbformat_minor": 5
}
